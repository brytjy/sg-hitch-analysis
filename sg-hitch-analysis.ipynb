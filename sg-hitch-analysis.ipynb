{
 "cells": [
  {
   "cell_type": "code",
   "execution_count": 2,
   "metadata": {},
   "outputs": [],
   "source": [
    "import pandas as pd\n",
    "from collections import Counter\n",
    "import numpy as np\n",
    "import matplotlib.pylab as plt\n",
    "import seaborn as sns\n",
    "import re"
   ]
  },
  {
   "cell_type": "markdown",
   "metadata": {},
   "source": [
    "### Import Raw Data"
   ]
  },
  {
   "cell_type": "code",
   "execution_count": 3,
   "metadata": {},
   "outputs": [
    {
     "data": {
      "text/html": [
       "<div>\n",
       "<style scoped>\n",
       "    .dataframe tbody tr th:only-of-type {\n",
       "        vertical-align: middle;\n",
       "    }\n",
       "\n",
       "    .dataframe tbody tr th {\n",
       "        vertical-align: top;\n",
       "    }\n",
       "\n",
       "    .dataframe thead th {\n",
       "        text-align: right;\n",
       "    }\n",
       "</style>\n",
       "<table border=\"1\" class=\"dataframe\">\n",
       "  <thead>\n",
       "    <tr style=\"text-align: right;\">\n",
       "      <th></th>\n",
       "      <th>user</th>\n",
       "      <th>post_date</th>\n",
       "      <th>post_time</th>\n",
       "      <th>raw_message</th>\n",
       "      <th>user_type</th>\n",
       "      <th>pick_up</th>\n",
       "      <th>drop_off</th>\n",
       "      <th>request_date</th>\n",
       "      <th>request_date_normalised</th>\n",
       "      <th>request_time</th>\n",
       "      <th>request_time_normalised</th>\n",
       "      <th>day</th>\n",
       "      <th>number_of_pax</th>\n",
       "    </tr>\n",
       "  </thead>\n",
       "  <tbody>\n",
       "    <tr>\n",
       "      <th>0</th>\n",
       "      <td>∆MBROSEEEEE</td>\n",
       "      <td>21.06.2019</td>\n",
       "      <td>21:47:59</td>\n",
       "      <td>👋 hitcher looking for drivers&lt;br/&gt;pick up: the...</td>\n",
       "      <td>hitcher</td>\n",
       "      <td>the midtown</td>\n",
       "      <td>534044</td>\n",
       "      <td>2019-06-21</td>\n",
       "      <td>2019-06-21</td>\n",
       "      <td>21:47</td>\n",
       "      <td>22:00</td>\n",
       "      <td>friday</td>\n",
       "      <td>3</td>\n",
       "    </tr>\n",
       "    <tr>\n",
       "      <th>1</th>\n",
       "      <td>Michelley</td>\n",
       "      <td>21.06.2019</td>\n",
       "      <td>21:48:02</td>\n",
       "      <td>👋 hitcher looking for drivers&lt;br/&gt;pick up: nov...</td>\n",
       "      <td>hitcher</td>\n",
       "      <td>novena square 2,main entrance near jollibee</td>\n",
       "      <td>valley point</td>\n",
       "      <td>2019-06-21</td>\n",
       "      <td>2019-06-21</td>\n",
       "      <td>21:48</td>\n",
       "      <td>22:00</td>\n",
       "      <td>friday</td>\n",
       "      <td>1</td>\n",
       "    </tr>\n",
       "    <tr>\n",
       "      <th>2</th>\n",
       "      <td>Charis Koh</td>\n",
       "      <td>21.06.2019</td>\n",
       "      <td>21:48:19</td>\n",
       "      <td>👋 hitcher looking for drivers&lt;br/&gt;pick up: the...</td>\n",
       "      <td>hitcher</td>\n",
       "      <td>the midtown</td>\n",
       "      <td>534044</td>\n",
       "      <td>2019-06-21</td>\n",
       "      <td>2019-06-21</td>\n",
       "      <td>21:48</td>\n",
       "      <td>22:00</td>\n",
       "      <td>friday</td>\n",
       "      <td>3</td>\n",
       "    </tr>\n",
       "    <tr>\n",
       "      <th>3</th>\n",
       "      <td>B-</td>\n",
       "      <td>21.06.2019</td>\n",
       "      <td>21:48:21</td>\n",
       "      <td>👋 hitcher looking for drivers&lt;br/&gt;pick up: mar...</td>\n",
       "      <td>hitcher</td>\n",
       "      <td>marsiling 730175</td>\n",
       "      <td>serangoon gardens</td>\n",
       "      <td>2019-06-21</td>\n",
       "      <td>2019-06-21</td>\n",
       "      <td>21:48</td>\n",
       "      <td>22:00</td>\n",
       "      <td>friday</td>\n",
       "      <td>1</td>\n",
       "    </tr>\n",
       "    <tr>\n",
       "      <th>4</th>\n",
       "      <td>Galan</td>\n",
       "      <td>21.06.2019</td>\n",
       "      <td>21:48:58</td>\n",
       "      <td>👋 hitcher looking for drivers&lt;br/&gt;pick up: buk...</td>\n",
       "      <td>hitcher</td>\n",
       "      <td>bukit panjang</td>\n",
       "      <td>tai seng</td>\n",
       "      <td>2019-06-21</td>\n",
       "      <td>2019-06-21</td>\n",
       "      <td>21:48</td>\n",
       "      <td>22:00</td>\n",
       "      <td>friday</td>\n",
       "      <td>2</td>\n",
       "    </tr>\n",
       "  </tbody>\n",
       "</table>\n",
       "</div>"
      ],
      "text/plain": [
       "          user   post_date post_time  \\\n",
       "0  ∆MBROSEEEEE  21.06.2019  21:47:59   \n",
       "1    Michelley  21.06.2019  21:48:02   \n",
       "2   Charis Koh  21.06.2019  21:48:19   \n",
       "3           B-  21.06.2019  21:48:21   \n",
       "4        Galan  21.06.2019  21:48:58   \n",
       "\n",
       "                                         raw_message user_type  \\\n",
       "0  👋 hitcher looking for drivers<br/>pick up: the...   hitcher   \n",
       "1  👋 hitcher looking for drivers<br/>pick up: nov...   hitcher   \n",
       "2  👋 hitcher looking for drivers<br/>pick up: the...   hitcher   \n",
       "3  👋 hitcher looking for drivers<br/>pick up: mar...   hitcher   \n",
       "4  👋 hitcher looking for drivers<br/>pick up: buk...   hitcher   \n",
       "\n",
       "                                       pick_up           drop_off  \\\n",
       "0                                  the midtown             534044   \n",
       "1  novena square 2,main entrance near jollibee       valley point   \n",
       "2                                  the midtown             534044   \n",
       "3                             marsiling 730175  serangoon gardens   \n",
       "4                                bukit panjang           tai seng   \n",
       "\n",
       "  request_date request_date_normalised request_time request_time_normalised  \\\n",
       "0   2019-06-21              2019-06-21        21:47                   22:00   \n",
       "1   2019-06-21              2019-06-21        21:48                   22:00   \n",
       "2   2019-06-21              2019-06-21        21:48                   22:00   \n",
       "3   2019-06-21              2019-06-21        21:48                   22:00   \n",
       "4   2019-06-21              2019-06-21        21:48                   22:00   \n",
       "\n",
       "      day number_of_pax  \n",
       "0  friday             3  \n",
       "1  friday             1  \n",
       "2  friday             3  \n",
       "3  friday             1  \n",
       "4  friday             2  "
      ]
     },
     "execution_count": 3,
     "metadata": {},
     "output_type": "execute_result"
    }
   ],
   "source": [
    "data = pd.read_csv(\"./data/sg_hitch_data.csv\", index_col=0)\n",
    "data.head()"
   ]
  },
  {
   "cell_type": "code",
   "execution_count": 4,
   "metadata": {},
   "outputs": [
    {
     "name": "stdout",
     "output_type": "stream",
     "text": [
      "Total number of ride requests:  295083\n"
     ]
    }
   ],
   "source": [
    "print(\"Total number of ride requests: \", len(data))"
   ]
  },
  {
   "cell_type": "code",
   "execution_count": 11,
   "metadata": {},
   "outputs": [
    {
     "name": "stdout",
     "output_type": "stream",
     "text": [
      "Number of hitchers: \t 241366 \t\tPercentage:  81.8 %\n",
      "Number of drivers: \t 53717 \t\tPercentage:  18.2 %\n"
     ]
    },
    {
     "data": {
      "image/png": "[encoded data removed]",
      "text/plain": [
       "<Figure size 432x288 with 1 Axes>"
      ]
     },
     "metadata": {},
     "output_type": "display_data"
    }
   ],
   "source": [
    "user_type = data['user_type']\n",
    "user_type_count = Counter(user_type)\n",
    "print(\"Number of hitchers: \\t\", user_type_count['hitcher'], \"\\t\\tPercentage: \", round(user_type_count['hitcher']/len(data)*100, 2), \"%\")\n",
    "print(\"Number of drivers: \\t\", user_type_count['driver'], \"\\t\\tPercentage: \", round(user_type_count['driver']/len(data)*100, 2), \"%\")\n",
    "\n",
    "labels = 'Driver', 'Hitcher'\n",
    "sizes = [user_type_count['driver'], user_type_count['hitcher']]\n",
    "colors = ['lightcoral', 'lightskyblue']\n",
    "explode_driver = 0\n",
    "explode_hitcher = 0\n",
    "index = sizes.index(max(sizes))\n",
    "if index == 0:\n",
    "    explode_driver = 0.1\n",
    "else:\n",
    "    explode_hitcher = 0.1\n",
    "explode = (explode_driver, explode_hitcher)  # explode max slice\n",
    "\n",
    "# Plot\n",
    "plt.pie(sizes, explode=explode, labels=labels, colors=colors, autopct='%1.1f%%', shadow=True, startangle=140)\n",
    "\n",
    "plt.axis('equal')\n",
    "plt.show()"
   ]
  },
  {
   "cell_type": "code",
   "execution_count": 12,
   "metadata": {},
   "outputs": [],
   "source": [
    "day_time_frequency = data.groupby([\"day\", \"request_time_normalised\"]).size().reset_index(name=\"count\")"
   ]
  },
  {
   "cell_type": "code",
   "execution_count": 48,
   "metadata": {
    "scrolled": true
   },
   "outputs": [],
   "source": [
    "monday = day_time_frequency[day_time_frequency.day == \"monday\"][\"count\"].tolist()\n",
    "tuesday = day_time_frequency[day_time_frequency.day == \"tuesday\"][\"count\"].tolist()\n",
    "wednesday = day_time_frequency[day_time_frequency.day == \"wednesday\"][\"count\"].tolist()\n",
    "thursday = day_time_frequency[day_time_frequency.day == \"thursday\"][\"count\"].tolist()\n",
    "friday = day_time_frequency[day_time_frequency.day == \"friday\"][\"count\"].tolist()\n",
    "saturday = day_time_frequency[day_time_frequency.day == \"saturday\"][\"count\"].tolist()\n",
    "sunday = day_time_frequency[day_time_frequency.day == \"sunday\"][\"count\"].tolist()\n",
    "\n",
    "time_intervals = day_time_frequency[\"request_time_normalised\"].unique()\n",
    "day_intervals = ['monday', 'tuesday', 'wednesday', 'thursday', 'friday', 'saturday', 'sunday']"
   ]
  },
  {
   "cell_type": "code",
   "execution_count": 32,
   "metadata": {
    "scrolled": true
   },
   "outputs": [
    {
     "name": "stdout",
     "output_type": "stream",
     "text": [
      "\t  Mon \t Tue \t Wed \t Thu \t Fri \t Sat \t Sun\n",
      "00:00 \t| 1277 \t 919 \t 892 \t 1096 \t 1236 \t 2071 \t 2266\n",
      "00:30 \t| 1231 \t 696 \t 811 \t 919 \t 1054 \t 2028 \t 2348\n",
      "01:00 \t| 1439 \t 895 \t 884 \t 1128 \t 1162 \t 2657 \t 2627\n",
      "01:30 \t| 954 \t 588 \t 636 \t 704 \t 865 \t 2154 \t 2367\n",
      "02:00 \t| 825 \t 604 \t 580 \t 724 \t 808 \t 2146 \t 2369\n",
      "02:30 \t| 595 \t 423 \t 417 \t 642 \t 530 \t 1443 \t 1907\n",
      "03:00 \t| 534 \t 519 \t 578 \t 855 \t 630 \t 1910 \t 1915\n",
      "03:30 \t| 391 \t 286 \t 371 \t 677 \t 429 \t 1664 \t 1633\n",
      "04:00 \t| 335 \t 270 \t 292 \t 433 \t 333 \t 1495 \t 1910\n",
      "04:30 \t| 258 \t 202 \t 204 \t 290 \t 256 \t 919 \t 1410\n",
      "05:00 \t| 291 \t 180 \t 228 \t 266 \t 277 \t 809 \t 1071\n",
      "05:30 \t| 191 \t 158 \t 116 \t 209 \t 213 \t 518 \t 672\n",
      "06:00 \t| 297 \t 219 \t 245 \t 274 \t 304 \t 589 \t 711\n",
      "06:30 \t| 273 \t 270 \t 209 \t 273 \t 239 \t 377 \t 443\n",
      "07:00 \t| 611 \t 595 \t 529 \t 557 \t 567 \t 455 \t 379\n",
      "07:30 \t| 654 \t 683 \t 533 \t 575 \t 646 \t 347 \t 228\n",
      "08:00 \t| 1303 \t 1274 \t 1234 \t 1246 \t 1330 \t 633 \t 371\n",
      "08:30 \t| 1148 \t 1145 \t 1079 \t 1087 \t 1081 \t 460 \t 360\n",
      "09:00 \t| 1058 \t 1051 \t 1115 \t 1022 \t 1095 \t 673 \t 492\n",
      "09:30 \t| 737 \t 626 \t 693 \t 720 \t 718 \t 576 \t 490\n",
      "10:00 \t| 695 \t 602 \t 561 \t 723 \t 724 \t 708 \t 680\n",
      "10:30 \t| 435 \t 506 \t 544 \t 525 \t 585 \t 589 \t 542\n",
      "11:00 \t| 499 \t 588 \t 611 \t 616 \t 719 \t 717 \t 714\n",
      "11:30 \t| 469 \t 543 \t 502 \t 533 \t 641 \t 702 \t 594\n",
      "12:00 \t| 516 \t 534 \t 582 \t 637 \t 829 \t 866 \t 656\n",
      "12:30 \t| 425 \t 485 \t 471 \t 518 \t 801 \t 777 \t 688\n",
      "13:00 \t| 520 \t 646 \t 614 \t 601 \t 934 \t 1114 \t 774\n",
      "13:30 \t| 440 \t 534 \t 507 \t 517 \t 762 \t 915 \t 672\n",
      "14:00 \t| 532 \t 602 \t 590 \t 585 \t 905 \t 1042 \t 728\n",
      "14:30 \t| 456 \t 434 \t 487 \t 489 \t 712 \t 736 \t 655\n",
      "15:00 \t| 557 \t 602 \t 669 \t 608 \t 829 \t 919 \t 777\n",
      "15:30 \t| 431 \t 504 \t 462 \t 489 \t 738 \t 735 \t 577\n",
      "16:00 \t| 699 \t 621 \t 703 \t 666 \t 986 \t 893 \t 723\n",
      "16:30 \t| 572 \t 550 \t 567 \t 633 \t 971 \t 756 \t 627\n",
      "17:00 \t| 862 \t 927 \t 1058 \t 1074 \t 1558 \t 1102 \t 829\n",
      "17:30 \t| 839 \t 946 \t 1016 \t 1012 \t 1517 \t 936 \t 723\n",
      "18:00 \t| 1483 \t 1551 \t 1662 \t 1776 \t 2668 \t 1348 \t 860\n",
      "18:30 \t| 1127 \t 1037 \t 1319 \t 1216 \t 2173 \t 1265 \t 903\n",
      "19:00 \t| 1076 \t 1150 \t 1166 \t 1238 \t 2210 \t 1435 \t 1129\n",
      "19:30 \t| 829 \t 736 \t 755 \t 842 \t 1568 \t 1133 \t 837\n",
      "20:00 \t| 942 \t 837 \t 911 \t 984 \t 1601 \t 1127 \t 1025\n",
      "20:30 \t| 790 \t 759 \t 804 \t 788 \t 1065 \t 852 \t 928\n",
      "21:00 \t| 1023 \t 1099 \t 1122 \t 1144 \t 1285 \t 1092 \t 1315\n",
      "21:30 \t| 924 \t 977 \t 1136 \t 1043 \t 1326 \t 1049 \t 1152\n",
      "22:00 \t| 1265 \t 1420 \t 1626 \t 1556 \t 1852 \t 1564 \t 1422\n",
      "22:30 \t| 868 \t 1128 \t 1247 \t 1113 \t 1691 \t 1519 \t 1283\n",
      "23:00 \t| 870 \t 999 \t 1244 \t 1308 \t 1988 \t 1743 \t 1326\n",
      "23:30 \t| 802 \t 784 \t 932 \t 1029 \t 1789 \t 1647 \t 1044\n"
     ]
    }
   ],
   "source": [
    "print(\"\\t  Mon \\t Tue \\t Wed \\t Thu \\t Fri \\t Sat \\t Sun\")\n",
    "for i in range(48):\n",
    "    print(time_intervals[i], \"\\t|\", monday[i], \"\\t\", tuesday[i], \"\\t\", wednesday[i], \"\\t\", thursday[i], \"\\t\", friday[i], \"\\t\", saturday[i], \"\\t\", sunday[i])"
   ]
  },
  {
   "cell_type": "code",
   "execution_count": 72,
   "metadata": {},
   "outputs": [
    {
     "data": {
      "text/plain": [
       "<matplotlib.axes._subplots.AxesSubplot at 0x22d96a060b8>"
      ]
     },
     "execution_count": 72,
     "metadata": {},
     "output_type": "execute_result"
    },
    {
     "data": {
      "image/png": "[encoded data removed]",
      "text/plain": [
       "<Figure size 1080x360 with 2 Axes>"
      ]
     },
     "metadata": {},
     "output_type": "display_data"
    }
   ],
   "source": [
    "day_time_count_array = [monday, tuesday, wednesday, thursday, friday, saturday, sunday]\n",
    "fig, ax = plt.subplots(figsize=(15,5))\n",
    "sns.heatmap(np.asarray(day_time_count_array), linewidths=0.1, cmap=\"YlGnBu\", xticklabels=time_intervals, yticklabels=day_intervals)"
   ]
  },
  {
   "cell_type": "code",
   "execution_count": 97,
   "metadata": {},
   "outputs": [],
   "source": [
    "source_destination = []\n",
    "\n",
    "for i in range(len(pick_up)):\n",
    "    source_destination.append(str(pick_up[i])+\" - \"+str(drop_off[i]))"
   ]
  },
  {
   "cell_type": "code",
   "execution_count": 98,
   "metadata": {},
   "outputs": [
    {
     "data": {
      "text/plain": [
       "[('town - anywhere', 407),\n",
       " ('yishun - anywhere', 348),\n",
       " ('woodlands - anywhere', 320),\n",
       " ('yishun - woodlands', 271),\n",
       " ('woodlands - yishun', 227),\n",
       " ('jurong - anywhere', 216),\n",
       " ('tampines - yishun', 214),\n",
       " ('tampines - woodlands', 213),\n",
       " ('woodlands - town', 204),\n",
       " ('woodlands - tampines', 202),\n",
       " ('punggol - woodlands', 200),\n",
       " ('yishun - town', 190),\n",
       " ('tampines - anywhere', 189),\n",
       " ('sengkang - woodlands', 185),\n",
       " ('bedok - punggol', 177),\n",
       " ('pasir ris - yishun', 176),\n",
       " ('yishun - tampines', 175),\n",
       " ('bedok - hougang', 174),\n",
       " ('hougang - yishun', 173),\n",
       " ('yishun - hougang', 170)]"
      ]
     },
     "execution_count": 98,
     "metadata": {},
     "output_type": "execute_result"
    }
   ],
   "source": [
    "Counter(source_destination).most_common(20)"
   ]
  },
  {
   "cell_type": "code",
   "execution_count": 5,
   "metadata": {},
   "outputs": [],
   "source": [
    "pick_up = data['pick_up'].to_list()"
   ]
  },
  {
   "cell_type": "code",
   "execution_count": 6,
   "metadata": {},
   "outputs": [
    {
     "name": "stdout",
     "output_type": "stream",
     "text": [
      "35661 / 295083\n"
     ]
    }
   ],
   "source": [
    "count = 0\n",
    "for pu in pick_up:\n",
    "    if re.search('\\d{6}', str(pu)):\n",
    "        count += 1\n",
    "print(count, \"/\", len(pick_up))"
   ]
  },
  {
   "cell_type": "code",
   "execution_count": 8,
   "metadata": {},
   "outputs": [
    {
     "data": {
      "text/plain": [
       "[('woodlands', 6884),\n",
       " ('yishun', 6400),\n",
       " ('tampines', 5567),\n",
       " ('sengkang', 5522),\n",
       " ('punggol', 4610),\n",
       " ('hougang', 4535),\n",
       " ('pasir ris', 4198),\n",
       " ('cck', 3547),\n",
       " ('amk', 3496),\n",
       " ('jurong west', 3357),\n",
       " ('bedok', 3003),\n",
       " ('jurong', 2666),\n",
       " ('bukit batok', 2539),\n",
       " ('sembawang', 2525),\n",
       " ('bukit panjang', 2360),\n",
       " ('town', 1483),\n",
       " ('serangoon', 1386),\n",
       " ('clarke quay', 1325),\n",
       " ('clementi', 1315),\n",
       " ('bugis', 1223),\n",
       " ('liang court', 1200),\n",
       " ('jurong east', 1149),\n",
       " ('orchard', 1107),\n",
       " ('ntu', 967),\n",
       " ('bishan', 943),\n",
       " ('toa payoh', 942),\n",
       " ('mbs', 898),\n",
       " ('yew tee', 767),\n",
       " ('ang mo kio', 753),\n",
       " ('tanjong pagar', 747),\n",
       " ('boon lay', 715),\n",
       " ('nus', 707),\n",
       " ('choa chu kang', 685),\n",
       " ('khatib', 663),\n",
       " ('simei', 656),\n",
       " ('admiralty', 647),\n",
       " ('jewel', 628),\n",
       " ('kovan', 616),\n",
       " ('changi airport', 609),\n",
       " ('geylang', 607),\n",
       " ('jurong point', 586),\n",
       " ('holland village', 581),\n",
       " ('woodland', 580),\n",
       " ('yewtee', 575),\n",
       " ('tpy', 568),\n",
       " ('tiong bahru', 561),\n",
       " ('vivo', 558),\n",
       " ('ngee ann poly', 557),\n",
       " ('marsiling', 535),\n",
       " ('vivo city', 534),\n",
       " ('313 somerset', 526),\n",
       " ('scape', 515),\n",
       " ('ubi', 515),\n",
       " ('vivocity', 499),\n",
       " ('nex', 494),\n",
       " ('taman jurong', 477),\n",
       " ('west', 472),\n",
       " ('tamp', 464),\n",
       " ('chinatown', 462),\n",
       " ('amk hub', 452),\n",
       " ('paya lebar', 450),\n",
       " ('republic poly', 445),\n",
       " ('plaza sing', 440),\n",
       " ('redhill', 437),\n",
       " ('suntec', 433),\n",
       " ('east', 407),\n",
       " ('west coast', 406),\n",
       " ('holland v', 403),\n",
       " ('temasek poly', 400),\n",
       " ('novotel', 400),\n",
       " ('bugis junction', 399),\n",
       " ('zouk', 397),\n",
       " ('concorde hotel', 386),\n",
       " ('bukit gombak', 381),\n",
       " ('changi', 379),\n",
       " ('bugis cube', 376),\n",
       " ('somerset', 372),\n",
       " ('serangoon north', 371),\n",
       " ('novena', 370),\n",
       " ('pioneer', 368),\n",
       " ('suntec city', 364),\n",
       " ('sim', 361),\n",
       " ('marina square', 356),\n",
       " ('woodlands checkpoint', 350),\n",
       " ('novotel clarke quay', 347),\n",
       " ('bukit merah', 344),\n",
       " ('seng kang', 340),\n",
       " ('tanah merah', 331),\n",
       " ('cuppage plaza', 327),\n",
       " ('cineleisure', 319),\n",
       " ('beauty world', 318),\n",
       " ('balestier', 316),\n",
       " ('swee choon', 316),\n",
       " ('cq', 316),\n",
       " ('orto', 315),\n",
       " ('eunos', 314),\n",
       " ('potong pasir', 311),\n",
       " ('bukit timah', 310),\n",
       " ('telok blangah', 305),\n",
       " ('macpherson', 304),\n",
       " ('kranji camp 3', 301),\n",
       " ('yio chu kang', 301),\n",
       " ('katong', 300),\n",
       " ('buangkok', 297),\n",
       " ('clark quay', 294),\n",
       " ('airport', 293),\n",
       " ('jem', 293),\n",
       " ('fernvale', 290),\n",
       " ('bedok reservoir', 283),\n",
       " ('golden mile complex', 282),\n",
       " ('kallang', 282),\n",
       " ('ion orchard', 278),\n",
       " ('commonwealth', 274),\n",
       " ('boat quay', 274),\n",
       " ('plaza singapura', 269),\n",
       " ('teck whye', 265),\n",
       " ('boonlay', 260),\n",
       " ('sengkang/punggol', 256),\n",
       " ('jcube', 256),\n",
       " ('rws', 253),\n",
       " ('hillview', 253),\n",
       " ('lakeside', 251),\n",
       " ('marine parade', 249),\n",
       " ('imm', 238),\n",
       " ('punggol/sengkang', 237),\n",
       " ('nsrcc', 236),\n",
       " ('bedok mall', 235),\n",
       " ('the cathay', 233),\n",
       " ('orchard plaza', 231),\n",
       " ('tampines 1', 230),\n",
       " ('buona vista', 226),\n",
       " ('prinsep street', 226),\n",
       " ('golden mile', 223),\n",
       " ('sentosa', 221),\n",
       " ('woodlands train checkpoint', 220),\n",
       " ('aljunied', 219),\n",
       " ('kembangan', 218),\n",
       " ('farrer park', 215),\n",
       " ('queenstown', 214),\n",
       " ('sungei gedong camp', 214),\n",
       " ('bugis plus', 212),\n",
       " ('jalan besar', 211),\n",
       " ('bendemeer', 208),\n",
       " ('causeway point', 205),\n",
       " ('telok ayer', 202),\n",
       " ('changi airport t2', 200),\n",
       " ('siglap', 200),\n",
       " ('yishun or nearby', 200),\n",
       " ('parklane', 198),\n",
       " ('bedok north', 196),\n",
       " ('boon keng', 195),\n",
       " ('kaki bukit', 194),\n",
       " ('lavender', 190),\n",
       " ('bugis+', 186),\n",
       " ('westgate', 186),\n",
       " ('one min', 185),\n",
       " ('serangoon gardens', 183),\n",
       " ('nyp', 183),\n",
       " ('ite cc', 181),\n",
       " ('pasir panjang', 180),\n",
       " ('prinsep', 180),\n",
       " ('dhoby ghaut', 176),\n",
       " ('tampines mall', 176),\n",
       " ('changi airport t3', 176),\n",
       " ('peace centre', 176),\n",
       " ('waterway point', 175),\n",
       " ('taiseng', 171),\n",
       " ('upper thomson', 170),\n",
       " ('republic polytechnic', 170),\n",
       " ('saf ferry terminal', 168),\n",
       " ('newton', 168),\n",
       " ('tampines east', 167),\n",
       " ('paragon', 166),\n",
       " ('yck', 166),\n",
       " ('smu', 163),\n",
       " ('north', 161),\n",
       " ('tiong bahru plaza', 160),\n",
       " ('suss', 160),\n",
       " ('changi airport t1', 158),\n",
       " ('singapore poly', 158),\n",
       " ('star vista', 158),\n",
       " ('tampines hub', 157),\n",
       " ('oriental plaza', 156),\n",
       " ('nuh', 156),\n",
       " ('northpoint', 155),\n",
       " ('somerset 313', 154),\n",
       " ('orchard tower', 153),\n",
       " ('punggol safra', 152),\n",
       " ('robertson quay', 152),\n",
       " ('city hall', 152),\n",
       " ('khatib mrt', 151),\n",
       " ('compass one', 151),\n",
       " ('paya lebar square', 151),\n",
       " ('hillion mall', 150),\n",
       " ('changi village', 149),\n",
       " ('simpang bedok', 146),\n",
       " ('sengkang mrt', 146),\n",
       " ('jurong east mrt', 145),\n",
       " ('guoco tower', 144),\n",
       " ('joo chiat', 144)]"
      ]
     },
     "execution_count": 8,
     "metadata": {},
     "output_type": "execute_result"
    }
   ],
   "source": [
    "Counter(pick_up).most_common(200)"
   ]
  },
  {
   "cell_type": "code",
   "execution_count": 8,
   "metadata": {},
   "outputs": [],
   "source": [
    "drop_off = data['drop_off'].to_list()"
   ]
  },
  {
   "cell_type": "code",
   "execution_count": 9,
   "metadata": {},
   "outputs": [
    {
     "name": "stdout",
     "output_type": "stream",
     "text": [
      "39689 / 295083\n"
     ]
    }
   ],
   "source": [
    "count = 0\n",
    "for do in drop_off:\n",
    "    if re.search('\\d{6}', str(do)):\n",
    "        count += 1\n",
    "print(count, \"/\", len(drop_off))"
   ]
  },
  {
   "cell_type": "code",
   "execution_count": 81,
   "metadata": {},
   "outputs": [
    {
     "data": {
      "text/plain": [
       "[('anywhere', 7677),\n",
       " ('woodlands', 6464),\n",
       " ('yishun', 6110),\n",
       " ('tampines', 5311),\n",
       " ('sengkang', 4901),\n",
       " ('punggol', 4642),\n",
       " ('hougang', 4405),\n",
       " ('pasir ris', 3883),\n",
       " ('jurong west', 3303),\n",
       " ('amk', 3177),\n",
       " ('cck', 3084),\n",
       " ('bedok', 2914),\n",
       " ('jurong', 2867),\n",
       " ('bukit batok', 2330),\n",
       " ('sembawang', 2303),\n",
       " ('bukit panjang', 2301),\n",
       " ('town', 2063),\n",
       " ('clementi', 1506),\n",
       " ('ngee ann poly', 1296),\n",
       " ('serangoon', 1257)]"
      ]
     },
     "execution_count": 81,
     "metadata": {},
     "output_type": "execute_result"
    }
   ],
   "source": [
    "Counter(drop_off).most_common(20)"
   ]
  },
  {
   "cell_type": "code",
   "execution_count": 82,
   "metadata": {},
   "outputs": [],
   "source": [
    "user = clean_data['user']"
   ]
  },
  {
   "cell_type": "code",
   "execution_count": 84,
   "metadata": {},
   "outputs": [
    {
     "data": {
      "text/plain": [
       "[('Deleted Account', 1610),\n",
       " ('J', 1250),\n",
       " ('Jonathan Ng', 997),\n",
       " ('.', 854),\n",
       " ('A', 628),\n",
       " ('Elizabeth', 572),\n",
       " ('J.K', 536),\n",
       " ('Joe', 535),\n",
       " ('Ck', 535),\n",
       " ('-', 498)]"
      ]
     },
     "execution_count": 84,
     "metadata": {},
     "output_type": "execute_result"
    }
   ],
   "source": [
    "Counter(user).most_common(10)"
   ]
  },
  {
   "cell_type": "code",
   "execution_count": 88,
   "metadata": {},
   "outputs": [],
   "source": [
    "request_date = data['request_date_normalised']"
   ]
  },
  {
   "cell_type": "code",
   "execution_count": 90,
   "metadata": {},
   "outputs": [
    {
     "data": {
      "text/plain": [
       "252"
      ]
     },
     "execution_count": 90,
     "metadata": {},
     "output_type": "execute_result"
    }
   ],
   "source": [
    "len(request_date.unique())"
   ]
  },
  {
   "cell_type": "code",
   "execution_count": 73,
   "metadata": {},
   "outputs": [],
   "source": [
    "request_time = data['request_time_normalised']"
   ]
  },
  {
   "cell_type": "code",
   "execution_count": 74,
   "metadata": {},
   "outputs": [
    {
     "data": {
      "text/plain": [
       "array(['22:00', '21:30', '10:00', '08:00', '09:00', '23:00', '22:30',\n",
       "       '07:30', '01:00', '14:00', '02:30', '23:30', '06:30', '00:30',\n",
       "       '09:30', '08:30', '00:00', '12:30', '13:30', '12:00', '04:00',\n",
       "       '02:00', '05:00', '01:30', '07:00', '11:00', '03:00', '03:30',\n",
       "       '14:30', '06:00', '04:30', '05:30', '15:30', '16:00', '16:30',\n",
       "       '17:00', '18:00', '19:00', '17:30', '19:30', '18:30', '20:00',\n",
       "       '21:00', '20:30', '13:00', '15:00', '10:30', '11:30'], dtype=object)"
      ]
     },
     "execution_count": 74,
     "metadata": {},
     "output_type": "execute_result"
    }
   ],
   "source": [
    "request_time.unique()"
   ]
  },
  {
   "cell_type": "code",
   "execution_count": 75,
   "metadata": {},
   "outputs": [
    {
     "data": {
      "text/plain": [
       "[('18:00', 11348),\n",
       " ('01:00', 10792),\n",
       " ('22:00', 10705),\n",
       " ('00:00', 9757),\n",
       " ('23:00', 9478),\n",
       " ('19:00', 9404),\n",
       " ('00:30', 9087),\n",
       " ('18:30', 9040),\n",
       " ('22:30', 8849),\n",
       " ('01:30', 8268)]"
      ]
     },
     "execution_count": 75,
     "metadata": {},
     "output_type": "execute_result"
    }
   ],
   "source": [
    "Counter(request_time).most_common(10)"
   ]
  },
  {
   "cell_type": "code",
   "execution_count": 21,
   "metadata": {},
   "outputs": [],
   "source": [
    "no_of_pax = clean_data['number_of_pax']"
   ]
  },
  {
   "cell_type": "code",
   "execution_count": 22,
   "metadata": {},
   "outputs": [
    {
     "data": {
      "text/plain": [
       "[('1', 185706),\n",
       " ('2', 44420),\n",
       " ('nil', 12660),\n",
       " ('3', 10839),\n",
       " ('1-2', 10253),\n",
       " ('1-3', 10221),\n",
       " ('1-4', 9743),\n",
       " ('4', 5937),\n",
       " ('5', 753),\n",
       " ('1-6', 461)]"
      ]
     },
     "execution_count": 22,
     "metadata": {},
     "output_type": "execute_result"
    }
   ],
   "source": [
    "Counter(no_of_pax).most_common(10)"
   ]
  },
  {
   "cell_type": "code",
   "execution_count": null,
   "metadata": {},
   "outputs": [],
   "source": []
  }
 ],
 "metadata": {
  "kernelspec": {
   "display_name": "Python 3",
   "language": "python",
   "name": "python3"
  },
  "language_info": {
   "codemirror_mode": {
    "name": "ipython",
    "version": 3
   },
   "file_extension": ".py",
   "mimetype": "text/x-python",
   "name": "python",
   "nbconvert_exporter": "python",
   "pygments_lexer": "ipython3",
   "version": "3.7.3"
  }
 },
 "nbformat": 4,
 "nbformat_minor": 2
}
