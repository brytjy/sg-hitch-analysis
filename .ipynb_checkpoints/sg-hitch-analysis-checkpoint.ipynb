{
 "cells": [
  {
   "cell_type": "code",
   "execution_count": 46,
   "metadata": {},
   "outputs": [],
   "source": [
    "import pandas as pd\n",
    "from collections import Counter\n",
    "import matplotlib.pylab as plt\n",
    "import re\n",
    "from datetime import datetime, timedelta"
   ]
  },
  {
   "cell_type": "markdown",
   "metadata": {},
   "source": [
    "### Import Raw Data"
   ]
  },
  {
   "cell_type": "code",
   "execution_count": 107,
   "metadata": {},
   "outputs": [
    {
     "data": {
      "text/html": [
       "<div>\n",
       "<style scoped>\n",
       "    .dataframe tbody tr th:only-of-type {\n",
       "        vertical-align: middle;\n",
       "    }\n",
       "\n",
       "    .dataframe tbody tr th {\n",
       "        vertical-align: top;\n",
       "    }\n",
       "\n",
       "    .dataframe thead th {\n",
       "        text-align: right;\n",
       "    }\n",
       "</style>\n",
       "<table border=\"1\" class=\"dataframe\">\n",
       "  <thead>\n",
       "    <tr style=\"text-align: right;\">\n",
       "      <th></th>\n",
       "      <th>user</th>\n",
       "      <th>post_date</th>\n",
       "      <th>post_time</th>\n",
       "      <th>raw_message</th>\n",
       "      <th>user_type</th>\n",
       "      <th>pick_up</th>\n",
       "      <th>drop_off</th>\n",
       "      <th>request_date</th>\n",
       "      <th>request_date_normalised</th>\n",
       "      <th>request_time</th>\n",
       "      <th>request_time_normalised</th>\n",
       "      <th>day</th>\n",
       "      <th>number_of_pax</th>\n",
       "    </tr>\n",
       "  </thead>\n",
       "  <tbody>\n",
       "    <tr>\n",
       "      <td>0</td>\n",
       "      <td>∆MBROSEEEEE</td>\n",
       "      <td>21.06.2019</td>\n",
       "      <td>21:47:59</td>\n",
       "      <td>👋 hitcher looking for drivers&lt;br/&gt;pick up: the...</td>\n",
       "      <td>hitcher</td>\n",
       "      <td>the midtown</td>\n",
       "      <td>534044</td>\n",
       "      <td>2019-06-21</td>\n",
       "      <td>2019-06-21</td>\n",
       "      <td>21:47</td>\n",
       "      <td>22:00</td>\n",
       "      <td>friday</td>\n",
       "      <td>3</td>\n",
       "    </tr>\n",
       "    <tr>\n",
       "      <td>1</td>\n",
       "      <td>Michelley</td>\n",
       "      <td>21.06.2019</td>\n",
       "      <td>21:48:02</td>\n",
       "      <td>👋 hitcher looking for drivers&lt;br/&gt;pick up: nov...</td>\n",
       "      <td>hitcher</td>\n",
       "      <td>novena square 2,main entrance near jollibee</td>\n",
       "      <td>valley point</td>\n",
       "      <td>2019-06-21</td>\n",
       "      <td>2019-06-21</td>\n",
       "      <td>21:48</td>\n",
       "      <td>22:00</td>\n",
       "      <td>friday</td>\n",
       "      <td>1</td>\n",
       "    </tr>\n",
       "    <tr>\n",
       "      <td>2</td>\n",
       "      <td>Charis Koh</td>\n",
       "      <td>21.06.2019</td>\n",
       "      <td>21:48:19</td>\n",
       "      <td>👋 hitcher looking for drivers&lt;br/&gt;pick up: the...</td>\n",
       "      <td>hitcher</td>\n",
       "      <td>the midtown</td>\n",
       "      <td>534044</td>\n",
       "      <td>2019-06-21</td>\n",
       "      <td>2019-06-21</td>\n",
       "      <td>21:48</td>\n",
       "      <td>22:00</td>\n",
       "      <td>friday</td>\n",
       "      <td>3</td>\n",
       "    </tr>\n",
       "    <tr>\n",
       "      <td>3</td>\n",
       "      <td>B-</td>\n",
       "      <td>21.06.2019</td>\n",
       "      <td>21:48:21</td>\n",
       "      <td>👋 hitcher looking for drivers&lt;br/&gt;pick up: mar...</td>\n",
       "      <td>hitcher</td>\n",
       "      <td>marsiling 730175</td>\n",
       "      <td>serangoon gardens</td>\n",
       "      <td>2019-06-21</td>\n",
       "      <td>2019-06-21</td>\n",
       "      <td>21:48</td>\n",
       "      <td>22:00</td>\n",
       "      <td>friday</td>\n",
       "      <td>1</td>\n",
       "    </tr>\n",
       "    <tr>\n",
       "      <td>4</td>\n",
       "      <td>Galan</td>\n",
       "      <td>21.06.2019</td>\n",
       "      <td>21:48:58</td>\n",
       "      <td>👋 hitcher looking for drivers&lt;br/&gt;pick up: buk...</td>\n",
       "      <td>hitcher</td>\n",
       "      <td>bukit panjang</td>\n",
       "      <td>tai seng</td>\n",
       "      <td>2019-06-21</td>\n",
       "      <td>2019-06-21</td>\n",
       "      <td>21:48</td>\n",
       "      <td>22:00</td>\n",
       "      <td>friday</td>\n",
       "      <td>2</td>\n",
       "    </tr>\n",
       "  </tbody>\n",
       "</table>\n",
       "</div>"
      ],
      "text/plain": [
       "          user   post_date post_time  \\\n",
       "0  ∆MBROSEEEEE  21.06.2019  21:47:59   \n",
       "1    Michelley  21.06.2019  21:48:02   \n",
       "2   Charis Koh  21.06.2019  21:48:19   \n",
       "3           B-  21.06.2019  21:48:21   \n",
       "4        Galan  21.06.2019  21:48:58   \n",
       "\n",
       "                                         raw_message user_type  \\\n",
       "0  👋 hitcher looking for drivers<br/>pick up: the...   hitcher   \n",
       "1  👋 hitcher looking for drivers<br/>pick up: nov...   hitcher   \n",
       "2  👋 hitcher looking for drivers<br/>pick up: the...   hitcher   \n",
       "3  👋 hitcher looking for drivers<br/>pick up: mar...   hitcher   \n",
       "4  👋 hitcher looking for drivers<br/>pick up: buk...   hitcher   \n",
       "\n",
       "                                       pick_up           drop_off  \\\n",
       "0                                  the midtown             534044   \n",
       "1  novena square 2,main entrance near jollibee       valley point   \n",
       "2                                  the midtown             534044   \n",
       "3                             marsiling 730175  serangoon gardens   \n",
       "4                                bukit panjang           tai seng   \n",
       "\n",
       "  request_date request_date_normalised request_time request_time_normalised  \\\n",
       "0   2019-06-21              2019-06-21        21:47                   22:00   \n",
       "1   2019-06-21              2019-06-21        21:48                   22:00   \n",
       "2   2019-06-21              2019-06-21        21:48                   22:00   \n",
       "3   2019-06-21              2019-06-21        21:48                   22:00   \n",
       "4   2019-06-21              2019-06-21        21:48                   22:00   \n",
       "\n",
       "      day number_of_pax  \n",
       "0  friday             3  \n",
       "1  friday             1  \n",
       "2  friday             3  \n",
       "3  friday             1  \n",
       "4  friday             2  "
      ]
     },
     "execution_count": 107,
     "metadata": {},
     "output_type": "execute_result"
    }
   ],
   "source": [
    "data = pd.read_csv(\"./data/sg_hitch_data.csv\", index_col=0)\n",
    "data.head()"
   ]
  },
  {
   "cell_type": "code",
   "execution_count": 108,
   "metadata": {},
   "outputs": [
    {
     "name": "stdout",
     "output_type": "stream",
     "text": [
      "Total number of ride requests:  295083\n"
     ]
    }
   ],
   "source": [
    "print(\"Total number of ride requests: \", len(data))"
   ]
  },
  {
   "cell_type": "code",
   "execution_count": 109,
   "metadata": {},
   "outputs": [
    {
     "name": "stdout",
     "output_type": "stream",
     "text": [
      "Number of hitchers: \t 241366 \t\tPercentage:  81.8 %\n",
      "Number of drivers: \t 53717 \t\tPercentage:  18.2 %\n"
     ]
    },
    {
     "data": {
      "image/png": "[encoded data removed]",
      "text/plain": [
       "<Figure size 432x288 with 1 Axes>"
      ]
     },
     "metadata": {},
     "output_type": "display_data"
    }
   ],
   "source": [
    "user_type = data['user_type']\n",
    "user_type_count = Counter(user_type)\n",
    "print(\"Number of hitchers: \\t\", user_type_count['hitcher'], \"\\t\\tPercentage: \", round(user_type_count['hitcher']/len(data)*100, 2), \"%\")\n",
    "print(\"Number of drivers: \\t\", user_type_count['driver'], \"\\t\\tPercentage: \", round(user_type_count['driver']/len(data)*100, 2), \"%\")\n",
    "\n",
    "labels = 'Driver', 'Hitcher'\n",
    "sizes = [user_type_count['driver'], user_type_count['hitcher']]\n",
    "colors = ['lightcoral', 'lightskyblue']\n",
    "explode_driver = 0\n",
    "explode_hitcher = 0\n",
    "index = sizes.index(max(sizes))\n",
    "if index == 0:\n",
    "    explode_driver = 0.1\n",
    "else:\n",
    "    explode_hitcher = 0.1\n",
    "explode = (explode_driver, explode_hitcher)  # explode max slice\n",
    "\n",
    "# Plot\n",
    "plt.pie(sizes, explode=explode, labels=labels, colors=colors, autopct='%1.1f%%', shadow=True, startangle=140)\n",
    "\n",
    "plt.axis('equal')\n",
    "plt.show()"
   ]
  },
  {
   "cell_type": "code",
   "execution_count": 129,
   "metadata": {},
   "outputs": [],
   "source": [
    "day_time_frequency = data.groupby([\"day\", \"request_time_normalised\"]).size().reset_index(name=\"count\")"
   ]
  },
  {
   "cell_type": "code",
   "execution_count": 153,
   "metadata": {},
   "outputs": [
    {
     "name": "stdout",
     "output_type": "stream",
     "text": [
      "monday\n",
      "tuesday\n",
      "wednesday\n",
      "thursday\n",
      "friday\n",
      "saturday\n",
      "sunday\n"
     ]
    }
   ],
   "source": [
    "time_intervals = data['request_time_normalised'].unique()\n",
    "time_intervals.sort()\n",
    "day_intervals = ['monday', 'tuesday', 'wednesday', 'thursday', 'friday', 'saturday', 'sunday']\n",
    "\n",
    "day_time_frequency_array = []\n",
    "\n",
    "for time in time_intervals:\n",
    "    for day in day_intervals:\n",
    "        if time == day_time_frequency[]"
   ]
  },
  {
   "cell_type": "code",
   "execution_count": 97,
   "metadata": {},
   "outputs": [],
   "source": [
    "source_destination = []\n",
    "\n",
    "for i in range(len(pick_up)):\n",
    "    source_destination.append(str(pick_up[i])+\" - \"+str(drop_off[i]))"
   ]
  },
  {
   "cell_type": "code",
   "execution_count": 98,
   "metadata": {},
   "outputs": [
    {
     "data": {
      "text/plain": [
       "[('town - anywhere', 407),\n",
       " ('yishun - anywhere', 348),\n",
       " ('woodlands - anywhere', 320),\n",
       " ('yishun - woodlands', 271),\n",
       " ('woodlands - yishun', 227),\n",
       " ('jurong - anywhere', 216),\n",
       " ('tampines - yishun', 214),\n",
       " ('tampines - woodlands', 213),\n",
       " ('woodlands - town', 204),\n",
       " ('woodlands - tampines', 202),\n",
       " ('punggol - woodlands', 200),\n",
       " ('yishun - town', 190),\n",
       " ('tampines - anywhere', 189),\n",
       " ('sengkang - woodlands', 185),\n",
       " ('bedok - punggol', 177),\n",
       " ('pasir ris - yishun', 176),\n",
       " ('yishun - tampines', 175),\n",
       " ('bedok - hougang', 174),\n",
       " ('hougang - yishun', 173),\n",
       " ('yishun - hougang', 170)]"
      ]
     },
     "execution_count": 98,
     "metadata": {},
     "output_type": "execute_result"
    }
   ],
   "source": [
    "Counter(source_destination).most_common(20)"
   ]
  },
  {
   "cell_type": "code",
   "execution_count": 78,
   "metadata": {},
   "outputs": [],
   "source": [
    "pick_up = clean_data['pick_up'].to_list()"
   ]
  },
  {
   "cell_type": "code",
   "execution_count": 79,
   "metadata": {},
   "outputs": [
    {
     "data": {
      "text/plain": [
       "[('woodlands', 6833),\n",
       " ('yishun', 6351),\n",
       " ('tampines', 5504),\n",
       " ('sengkang', 5472),\n",
       " ('punggol', 4565),\n",
       " ('hougang', 4491),\n",
       " ('pasir ris', 4162),\n",
       " ('cck', 3518),\n",
       " ('amk', 3478),\n",
       " ('jurong west', 3321),\n",
       " ('bedok', 2978),\n",
       " ('jurong', 2655),\n",
       " ('sembawang', 2512),\n",
       " ('bukit batok', 2502),\n",
       " ('bukit panjang', 2325),\n",
       " ('town', 1480),\n",
       " ('serangoon', 1375),\n",
       " ('clarke quay', 1320),\n",
       " ('clementi', 1303),\n",
       " ('bugis', 1216)]"
      ]
     },
     "execution_count": 79,
     "metadata": {},
     "output_type": "execute_result"
    }
   ],
   "source": [
    "Counter(pick_up).most_common(20)"
   ]
  },
  {
   "cell_type": "code",
   "execution_count": 80,
   "metadata": {},
   "outputs": [],
   "source": [
    "drop_off = clean_data['drop_off'].to_list()"
   ]
  },
  {
   "cell_type": "code",
   "execution_count": 81,
   "metadata": {},
   "outputs": [
    {
     "data": {
      "text/plain": [
       "[('anywhere', 7677),\n",
       " ('woodlands', 6464),\n",
       " ('yishun', 6110),\n",
       " ('tampines', 5311),\n",
       " ('sengkang', 4901),\n",
       " ('punggol', 4642),\n",
       " ('hougang', 4405),\n",
       " ('pasir ris', 3883),\n",
       " ('jurong west', 3303),\n",
       " ('amk', 3177),\n",
       " ('cck', 3084),\n",
       " ('bedok', 2914),\n",
       " ('jurong', 2867),\n",
       " ('bukit batok', 2330),\n",
       " ('sembawang', 2303),\n",
       " ('bukit panjang', 2301),\n",
       " ('town', 2063),\n",
       " ('clementi', 1506),\n",
       " ('ngee ann poly', 1296),\n",
       " ('serangoon', 1257)]"
      ]
     },
     "execution_count": 81,
     "metadata": {},
     "output_type": "execute_result"
    }
   ],
   "source": [
    "Counter(drop_off).most_common(20)"
   ]
  },
  {
   "cell_type": "code",
   "execution_count": 82,
   "metadata": {},
   "outputs": [],
   "source": [
    "user = clean_data['user']"
   ]
  },
  {
   "cell_type": "code",
   "execution_count": 84,
   "metadata": {},
   "outputs": [
    {
     "data": {
      "text/plain": [
       "[('Deleted Account', 1610),\n",
       " ('J', 1250),\n",
       " ('Jonathan Ng', 997),\n",
       " ('.', 854),\n",
       " ('A', 628),\n",
       " ('Elizabeth', 572),\n",
       " ('J.K', 536),\n",
       " ('Joe', 535),\n",
       " ('Ck', 535),\n",
       " ('-', 498)]"
      ]
     },
     "execution_count": 84,
     "metadata": {},
     "output_type": "execute_result"
    }
   ],
   "source": [
    "Counter(user).most_common(10)"
   ]
  },
  {
   "cell_type": "code",
   "execution_count": 88,
   "metadata": {},
   "outputs": [],
   "source": [
    "request_date = data['request_date_normalised']"
   ]
  },
  {
   "cell_type": "code",
   "execution_count": 90,
   "metadata": {},
   "outputs": [
    {
     "data": {
      "text/plain": [
       "252"
      ]
     },
     "execution_count": 90,
     "metadata": {},
     "output_type": "execute_result"
    }
   ],
   "source": [
    "len(request_date.unique())"
   ]
  },
  {
   "cell_type": "code",
   "execution_count": 94,
   "metadata": {},
   "outputs": [],
   "source": [
    "request_time = data['request_time_normalised']"
   ]
  },
  {
   "cell_type": "code",
   "execution_count": 96,
   "metadata": {},
   "outputs": [
    {
     "data": {
      "text/plain": [
       "array(['22:00', '21:30', '10:00', '08:00', '09:00', '23:00', '22:30',\n",
       "       '07:30', '01:00', '14:00', '02:30', '23:30', '06:30', '00:30',\n",
       "       '09:30', '08:30', '00:00', '12:30', '13:30', '12:00', '04:00',\n",
       "       '02:00', '05:00', '01:30', '07:00', '11:00', '03:00', '03:30',\n",
       "       '14:30', '06:00', '04:30', '05:30', '15:30', '16:00', '16:30',\n",
       "       '17:00', '18:00', '19:00', '17:30', '19:30', '18:30', '20:00',\n",
       "       '21:00', '20:30', '13:00', '15:00', '10:30', '11:30'], dtype=object)"
      ]
     },
     "execution_count": 96,
     "metadata": {},
     "output_type": "execute_result"
    }
   ],
   "source": [
    "request_time.unique()"
   ]
  },
  {
   "cell_type": "code",
   "execution_count": 92,
   "metadata": {},
   "outputs": [
    {
     "data": {
      "text/plain": [
       "[('18:00', 2996),\n",
       " ('18:30', 2063),\n",
       " ('17:30', 1988),\n",
       " ('22:00', 1963),\n",
       " ('19:00', 1851),\n",
       " ('17:00', 1777),\n",
       " ('08:00', 1743),\n",
       " ('23:00', 1735),\n",
       " ('22:30', 1663),\n",
       " ('21:00', 1630)]"
      ]
     },
     "execution_count": 92,
     "metadata": {},
     "output_type": "execute_result"
    }
   ],
   "source": [
    "Counter(request_time).most_common(10)"
   ]
  },
  {
   "cell_type": "code",
   "execution_count": 21,
   "metadata": {},
   "outputs": [],
   "source": [
    "no_of_pax = clean_data['number_of_pax']"
   ]
  },
  {
   "cell_type": "code",
   "execution_count": 22,
   "metadata": {},
   "outputs": [
    {
     "data": {
      "text/plain": [
       "[('1', 185706),\n",
       " ('2', 44420),\n",
       " ('nil', 12660),\n",
       " ('3', 10839),\n",
       " ('1-2', 10253),\n",
       " ('1-3', 10221),\n",
       " ('1-4', 9743),\n",
       " ('4', 5937),\n",
       " ('5', 753),\n",
       " ('1-6', 461)]"
      ]
     },
     "execution_count": 22,
     "metadata": {},
     "output_type": "execute_result"
    }
   ],
   "source": [
    "Counter(no_of_pax).most_common(10)"
   ]
  },
  {
   "cell_type": "code",
   "execution_count": null,
   "metadata": {},
   "outputs": [],
   "source": []
  }
 ],
 "metadata": {
  "kernelspec": {
   "display_name": "Python 3",
   "language": "python",
   "name": "python3"
  },
  "language_info": {
   "codemirror_mode": {
    "name": "ipython",
    "version": 3
   },
   "file_extension": ".py",
   "mimetype": "text/x-python",
   "name": "python",
   "nbconvert_exporter": "python",
   "pygments_lexer": "ipython3",
   "version": "3.6.8"
  }
 },
 "nbformat": 4,
 "nbformat_minor": 2
}
